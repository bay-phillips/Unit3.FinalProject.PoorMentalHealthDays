{
  "nbformat": 4,
  "nbformat_minor": 0,
  "metadata": {
    "colab": {
      "provenance": [],
      "mount_file_id": "1RNHlsrSED4nClN29YkbagVKJ4dAEbYdl",
      "authorship_tag": "ABX9TyMhAFH3sYmrwBcXi8HAiYjW",
      "include_colab_link": true
    },
    "kernelspec": {
      "name": "python3",
      "display_name": "Python 3"
    },
    "language_info": {
      "name": "python"
    }
  },
  "cells": [
    {
      "cell_type": "markdown",
      "metadata": {
        "id": "view-in-github",
        "colab_type": "text"
      },
      "source": [
        "<a href=\"https://colab.research.google.com/github/bay-phillips/Unit3.FinalProject.PoorMentalHealthDays/blob/main/Python_Unit3.ipynb\" target=\"_parent\"><img src=\"https://colab.research.google.com/assets/colab-badge.svg\" alt=\"Open In Colab\"/></a>"
      ]
    },
    {
      "cell_type": "markdown",
      "source": [
        "# **How To Create a Dataframe**"
      ],
      "metadata": {
        "id": "Lry66YTJWdtc"
      }
    },
    {
      "cell_type": "markdown",
      "source": [
        "The intention of this notebook is to teach you how to create, gather, and analyaze a subset of data relating to County Health Statistics in the US from 2014-2015. The specific subset of data we will being using is about the relationship between different regions within the US and poor mental health days.\n"
      ],
      "metadata": {
        "id": "q1Ew0Z6TWkd_"
      }
    },
    {
      "cell_type": "markdown",
      "source": [
        "# **Packages**\n",
        "\n"
      ],
      "metadata": {
        "id": "0FilztnyWqV9"
      }
    },
    {
      "cell_type": "markdown",
      "source": [
        "Though python has a range of functions and usefull tools there are many limits on its abillites. In order to combate this many people use packages. Packages provide users with extras functions not otherwise found in Python. Many of these packages are free through Python."
      ],
      "metadata": {
        "id": "y-nVxgyjXaUC"
      }
    },
    {
      "cell_type": "markdown",
      "source": [
        "**Pandas**"
      ],
      "metadata": {
        "id": "EbTpdXwFZ51G"
      }
    },
    {
      "cell_type": "markdown",
      "source": [
        "Pandas is a package that allows users to store their data in rows and columuns, similar to excel. In order to use panadas type the following command:"
      ],
      "metadata": {
        "id": "7URJG350Z9Bc"
      }
    },
    {
      "cell_type": "code",
      "execution_count": 1,
      "metadata": {
        "id": "98yPoguR6ahk"
      },
      "outputs": [],
      "source": [
        "import pandas as pd"
      ]
    },
    {
      "cell_type": "markdown",
      "source": [
        "**Numpy**"
      ],
      "metadata": {
        "id": "1OXM7YtKbuYF"
      }
    },
    {
      "cell_type": "markdown",
      "source": [
        "Numpy is another common package that we will use. It helps python with computing data and mathematics. To import Numpy type the following command:"
      ],
      "metadata": {
        "id": "kQcY0MkhbySd"
      }
    },
    {
      "cell_type": "code",
      "source": [
        "import numpy as np"
      ],
      "metadata": {
        "id": "T7bmxGpXGGRn"
      },
      "execution_count": 3,
      "outputs": []
    },
    {
      "cell_type": "markdown",
      "source": [
        "# Creating a Dataframe"
      ],
      "metadata": {
        "id": "JlF-cjY5elng"
      }
    },
    {
      "cell_type": "markdown",
      "source": [
        "In order to code  with your dataframe you first need to import it into your Colab or other coding site. To do this go to file in the upper left corner and press the upload symbol.\n",
        "\n",
        "After the file is dowloaded, you'll need to make a variable to define your dataframe. This can be done with the following command. Where the name of your file, CHD.csv, can be used to guide the code."
      ],
      "metadata": {
        "id": "Af8qmvm2erUH"
      }
    },
    {
      "cell_type": "code",
      "source": [
        "df=pd.read_csv(\"CHD.csv\")"
      ],
      "metadata": {
        "id": "ofXWToZm__GC"
      },
      "execution_count": 4,
      "outputs": []
    },
    {
      "cell_type": "markdown",
      "source": [
        "**Exploring the Dataframe**"
      ],
      "metadata": {
        "id": "KWIr7RP8wZnx"
      }
    },
    {
      "cell_type": "markdown",
      "source": [
        "Once your dataframe is created there are many ways to explore the attributes within the frame. This is mainly done by typing Dataframe Name.Attribute\n",
        "\n",
        "Some examples are included below:"
      ],
      "metadata": {
        "id": "Oj7vREvKxAnd"
      }
    },
    {
      "cell_type": "code",
      "source": [
        "df.shape"
      ],
      "metadata": {
        "colab": {
          "base_uri": "https://localhost:8080/"
        },
        "id": "ZQaCGVR3ZDi9",
        "outputId": "19e61d7c-40f7-49a8-c51f-03d9b3f6ea21"
      },
      "execution_count": 5,
      "outputs": [
        {
          "output_type": "execute_result",
          "data": {
            "text/plain": [
              "(6109, 64)"
            ]
          },
          "metadata": {},
          "execution_count": 5
        }
      ]
    },
    {
      "cell_type": "markdown",
      "source": [
        "This code tells you the shape of the data frame."
      ],
      "metadata": {
        "id": "KzUfWrgtL6HF"
      }
    },
    {
      "cell_type": "code",
      "source": [
        "df.size"
      ],
      "metadata": {
        "colab": {
          "base_uri": "https://localhost:8080/"
        },
        "id": "JTRqVe5suZps",
        "outputId": "b4f2e7e6-ebaf-4a28-fed0-3f15388b698f"
      },
      "execution_count": 6,
      "outputs": [
        {
          "output_type": "execute_result",
          "data": {
            "text/plain": [
              "390976"
            ]
          },
          "metadata": {},
          "execution_count": 6
        }
      ]
    },
    {
      "cell_type": "markdown",
      "source": [
        "This code tells you the number of data points in the data frame."
      ],
      "metadata": {
        "id": "mJgCOdfiL-gC"
      }
    },
    {
      "cell_type": "code",
      "source": [
        "df.columns"
      ],
      "metadata": {
        "colab": {
          "base_uri": "https://localhost:8080/"
        },
        "id": "0YEZ9wC9vPFt",
        "outputId": "d26de370-4906-4027-fb81-4f28464ab9d0"
      },
      "execution_count": 7,
      "outputs": [
        {
          "output_type": "execute_result",
          "data": {
            "text/plain": [
              "Index(['State', 'Region', 'Division', 'County', 'FIPS', 'GEOID', 'SMS Region',\n",
              "       'Year', 'Premature death', 'Poor or fair health',\n",
              "       'Poor physical health days', 'Poor mental health days',\n",
              "       'Low birthweight', 'Adult smoking', 'Adult obesity',\n",
              "       'Food environment index', 'Physical inactivity',\n",
              "       'Access to exercise opportunities', 'Excessive drinking',\n",
              "       'Alcohol-impaired driving deaths', 'Sexually transmitted infections',\n",
              "       'Teen births', 'Uninsured', 'Primary care physicians', 'Dentists',\n",
              "       'Mental health providers', 'Preventable hospital stays',\n",
              "       'Diabetic screening', 'Mammography screening', 'High school graduation',\n",
              "       'Some college', 'Unemployment', 'Children in poverty',\n",
              "       'Income inequality', 'Children in single-parent households',\n",
              "       'Social associations', 'Violent crime', 'Injury deaths',\n",
              "       'Air pollution - particulate matter', 'Drinking water violations',\n",
              "       'Severe housing problems', 'Driving alone to work',\n",
              "       'Long commute - driving alone', '2011 population estimate',\n",
              "       'Population that is not proficient in English',\n",
              "       'Population living in a rural area', 'Diabetes', 'HIV prevalence rate',\n",
              "       'Premature age-adjusted mortality', 'Infant mortality',\n",
              "       'Child mortality', 'Food insecurity', 'Limited access to healthy foods',\n",
              "       'Motor vehicle crash deaths', 'Drug poisoning deaths',\n",
              "       'Uninsured adults', 'Uninsured children', 'Health care costs',\n",
              "       'Could not see doctor due to cost', 'Other primary care providers',\n",
              "       'Median household income', 'Children eligible for free lunch',\n",
              "       'Homicide rate', 'Inadequate social support'],\n",
              "      dtype='object')"
            ]
          },
          "metadata": {},
          "execution_count": 7
        }
      ]
    },
    {
      "cell_type": "markdown",
      "source": [
        "This tells you the name of the columns within the data frame."
      ],
      "metadata": {
        "id": "PGZiGUqBMDiF"
      }
    },
    {
      "cell_type": "markdown",
      "source": [
        "**Filtering Data**\n",
        "\n",
        "To see what a random row of this dataframe looks like, we can use the function .sample():\n",
        "- Leaving the space in the parentheses blank will create a single row, but multiple rows can also be created by placing numbers:"
      ],
      "metadata": {
        "id": "uo4NiCwdyHOM"
      }
    },
    {
      "cell_type": "code",
      "source": [
        "df.sample()"
      ],
      "metadata": {
        "colab": {
          "base_uri": "https://localhost:8080/",
          "height": 252
        },
        "id": "K8-lwoiqwh18",
        "outputId": "8a7a8184-f3f5-497b-b270-694ea00389d9"
      },
      "execution_count": 8,
      "outputs": [
        {
          "output_type": "execute_result",
          "data": {
            "text/plain": [
              "     State Region            Division            County   FIPS  GEOID  \\\n",
              "2266    LA  South  West South Central  Red River Parish  22081  22081   \n",
              "\n",
              "     SMS Region      Year  Premature death  Poor or fair health  ...  \\\n",
              "2266  Region 19  1/1/2015          10787.0                 0.28  ...   \n",
              "\n",
              "      Drug poisoning deaths  Uninsured adults  Uninsured children  \\\n",
              "2266                    NaN             0.268               0.064   \n",
              "\n",
              "      Health care costs  Could not see doctor due to cost  \\\n",
              "2266            13976.0                             0.271   \n",
              "\n",
              "      Other primary care providers  Median household income  \\\n",
              "2266                          34.0                    35762   \n",
              "\n",
              "      Children eligible for free lunch  Homicide rate  \\\n",
              "2266                             0.795            NaN   \n",
              "\n",
              "      Inadequate social support  \n",
              "2266                        NaN  \n",
              "\n",
              "[1 rows x 64 columns]"
            ],
            "text/html": [
              "\n",
              "  <div id=\"df-45e5b08e-e9ed-4810-b70b-3539051ee2dc\" class=\"colab-df-container\">\n",
              "    <div>\n",
              "<style scoped>\n",
              "    .dataframe tbody tr th:only-of-type {\n",
              "        vertical-align: middle;\n",
              "    }\n",
              "\n",
              "    .dataframe tbody tr th {\n",
              "        vertical-align: top;\n",
              "    }\n",
              "\n",
              "    .dataframe thead th {\n",
              "        text-align: right;\n",
              "    }\n",
              "</style>\n",
              "<table border=\"1\" class=\"dataframe\">\n",
              "  <thead>\n",
              "    <tr style=\"text-align: right;\">\n",
              "      <th></th>\n",
              "      <th>State</th>\n",
              "      <th>Region</th>\n",
              "      <th>Division</th>\n",
              "      <th>County</th>\n",
              "      <th>FIPS</th>\n",
              "      <th>GEOID</th>\n",
              "      <th>SMS Region</th>\n",
              "      <th>Year</th>\n",
              "      <th>Premature death</th>\n",
              "      <th>Poor or fair health</th>\n",
              "      <th>...</th>\n",
              "      <th>Drug poisoning deaths</th>\n",
              "      <th>Uninsured adults</th>\n",
              "      <th>Uninsured children</th>\n",
              "      <th>Health care costs</th>\n",
              "      <th>Could not see doctor due to cost</th>\n",
              "      <th>Other primary care providers</th>\n",
              "      <th>Median household income</th>\n",
              "      <th>Children eligible for free lunch</th>\n",
              "      <th>Homicide rate</th>\n",
              "      <th>Inadequate social support</th>\n",
              "    </tr>\n",
              "  </thead>\n",
              "  <tbody>\n",
              "    <tr>\n",
              "      <th>2266</th>\n",
              "      <td>LA</td>\n",
              "      <td>South</td>\n",
              "      <td>West South Central</td>\n",
              "      <td>Red River Parish</td>\n",
              "      <td>22081</td>\n",
              "      <td>22081</td>\n",
              "      <td>Region 19</td>\n",
              "      <td>1/1/2015</td>\n",
              "      <td>10787.0</td>\n",
              "      <td>0.28</td>\n",
              "      <td>...</td>\n",
              "      <td>NaN</td>\n",
              "      <td>0.268</td>\n",
              "      <td>0.064</td>\n",
              "      <td>13976.0</td>\n",
              "      <td>0.271</td>\n",
              "      <td>34.0</td>\n",
              "      <td>35762</td>\n",
              "      <td>0.795</td>\n",
              "      <td>NaN</td>\n",
              "      <td>NaN</td>\n",
              "    </tr>\n",
              "  </tbody>\n",
              "</table>\n",
              "<p>1 rows × 64 columns</p>\n",
              "</div>\n",
              "    <div class=\"colab-df-buttons\">\n",
              "\n",
              "  <div class=\"colab-df-container\">\n",
              "    <button class=\"colab-df-convert\" onclick=\"convertToInteractive('df-45e5b08e-e9ed-4810-b70b-3539051ee2dc')\"\n",
              "            title=\"Convert this dataframe to an interactive table.\"\n",
              "            style=\"display:none;\">\n",
              "\n",
              "  <svg xmlns=\"http://www.w3.org/2000/svg\" height=\"24px\" viewBox=\"0 -960 960 960\">\n",
              "    <path d=\"M120-120v-720h720v720H120Zm60-500h600v-160H180v160Zm220 220h160v-160H400v160Zm0 220h160v-160H400v160ZM180-400h160v-160H180v160Zm440 0h160v-160H620v160ZM180-180h160v-160H180v160Zm440 0h160v-160H620v160Z\"/>\n",
              "  </svg>\n",
              "    </button>\n",
              "\n",
              "  <style>\n",
              "    .colab-df-container {\n",
              "      display:flex;\n",
              "      gap: 12px;\n",
              "    }\n",
              "\n",
              "    .colab-df-convert {\n",
              "      background-color: #E8F0FE;\n",
              "      border: none;\n",
              "      border-radius: 50%;\n",
              "      cursor: pointer;\n",
              "      display: none;\n",
              "      fill: #1967D2;\n",
              "      height: 32px;\n",
              "      padding: 0 0 0 0;\n",
              "      width: 32px;\n",
              "    }\n",
              "\n",
              "    .colab-df-convert:hover {\n",
              "      background-color: #E2EBFA;\n",
              "      box-shadow: 0px 1px 2px rgba(60, 64, 67, 0.3), 0px 1px 3px 1px rgba(60, 64, 67, 0.15);\n",
              "      fill: #174EA6;\n",
              "    }\n",
              "\n",
              "    .colab-df-buttons div {\n",
              "      margin-bottom: 4px;\n",
              "    }\n",
              "\n",
              "    [theme=dark] .colab-df-convert {\n",
              "      background-color: #3B4455;\n",
              "      fill: #D2E3FC;\n",
              "    }\n",
              "\n",
              "    [theme=dark] .colab-df-convert:hover {\n",
              "      background-color: #434B5C;\n",
              "      box-shadow: 0px 1px 3px 1px rgba(0, 0, 0, 0.15);\n",
              "      filter: drop-shadow(0px 1px 2px rgba(0, 0, 0, 0.3));\n",
              "      fill: #FFFFFF;\n",
              "    }\n",
              "  </style>\n",
              "\n",
              "    <script>\n",
              "      const buttonEl =\n",
              "        document.querySelector('#df-45e5b08e-e9ed-4810-b70b-3539051ee2dc button.colab-df-convert');\n",
              "      buttonEl.style.display =\n",
              "        google.colab.kernel.accessAllowed ? 'block' : 'none';\n",
              "\n",
              "      async function convertToInteractive(key) {\n",
              "        const element = document.querySelector('#df-45e5b08e-e9ed-4810-b70b-3539051ee2dc');\n",
              "        const dataTable =\n",
              "          await google.colab.kernel.invokeFunction('convertToInteractive',\n",
              "                                                    [key], {});\n",
              "        if (!dataTable) return;\n",
              "\n",
              "        const docLinkHtml = 'Like what you see? Visit the ' +\n",
              "          '<a target=\"_blank\" href=https://colab.research.google.com/notebooks/data_table.ipynb>data table notebook</a>'\n",
              "          + ' to learn more about interactive tables.';\n",
              "        element.innerHTML = '';\n",
              "        dataTable['output_type'] = 'display_data';\n",
              "        await google.colab.output.renderOutput(dataTable, element);\n",
              "        const docLink = document.createElement('div');\n",
              "        docLink.innerHTML = docLinkHtml;\n",
              "        element.appendChild(docLink);\n",
              "      }\n",
              "    </script>\n",
              "  </div>\n",
              "\n",
              "    </div>\n",
              "  </div>\n"
            ]
          },
          "metadata": {},
          "execution_count": 8
        }
      ]
    },
    {
      "cell_type": "code",
      "source": [
        "df.sample(5)"
      ],
      "metadata": {
        "colab": {
          "base_uri": "https://localhost:8080/",
          "height": 464
        },
        "id": "djbBeNJkEcZx",
        "outputId": "d40bd105-7a4e-4b56-9e4a-b8e03d70cc86"
      },
      "execution_count": 9,
      "outputs": [
        {
          "output_type": "execute_result",
          "data": {
            "text/plain": [
              "     State   Region            Division              County   FIPS  GEOID  \\\n",
              "3312    NC    South      South Atlantic     Franklin County  37069  37069   \n",
              "4997    TX    South  West South Central     Colorado County  48089  48089   \n",
              "1567    IN  Midwest  East North Central  Bartholomew County  18005  18005   \n",
              "3330    NC    South      South Atlantic      Haywood County  37087  37087   \n",
              "295     AR    South  West South Central         Pope County   5115   5115   \n",
              "\n",
              "     SMS Region      Year  Premature death  Poor or fair health  ...  \\\n",
              "3312  Region 20  1/1/2015           7607.0                0.166  ...   \n",
              "4997  Region 10  1/1/2014           7094.0                  NaN  ...   \n",
              "1567  Region 30  1/1/2015           7412.0                0.148  ...   \n",
              "3330  Region 20  1/1/2015           7698.0                0.180  ...   \n",
              "295   Region 11  1/1/2015           8177.0                0.182  ...   \n",
              "\n",
              "      Drug poisoning deaths  Uninsured adults  Uninsured children  \\\n",
              "3312                  10.61             0.255               0.094   \n",
              "4997                   6.91             0.310               0.173   \n",
              "1567                  14.17             0.194               0.083   \n",
              "3330                  18.01             0.227               0.070   \n",
              "295                    9.60             0.265               0.065   \n",
              "\n",
              "      Health care costs  Could not see doctor due to cost  \\\n",
              "3312             9284.0                             0.241   \n",
              "4997            12092.0                             0.194   \n",
              "1567             9400.0                             0.092   \n",
              "3330             8561.0                             0.205   \n",
              "295              9075.0                             0.168   \n",
              "\n",
              "      Other primary care providers  Median household income  \\\n",
              "3312                          19.0                    39312   \n",
              "4997                          24.0                    40702   \n",
              "1567                          46.0                    54341   \n",
              "3330                          46.0                    39320   \n",
              "295                           37.0                    39704   \n",
              "\n",
              "      Children eligible for free lunch  Homicide rate  \\\n",
              "3312                             0.505            4.8   \n",
              "4997                             0.542            NaN   \n",
              "1567                             0.341            2.0   \n",
              "3330                             0.454            3.1   \n",
              "295                              0.468            3.1   \n",
              "\n",
              "      Inadequate social support  \n",
              "3312                        NaN  \n",
              "4997                        NaN  \n",
              "1567                        NaN  \n",
              "3330                        NaN  \n",
              "295                         NaN  \n",
              "\n",
              "[5 rows x 64 columns]"
            ],
            "text/html": [
              "\n",
              "  <div id=\"df-086e1e8c-de47-4e0c-a0c7-6cae632a8262\" class=\"colab-df-container\">\n",
              "    <div>\n",
              "<style scoped>\n",
              "    .dataframe tbody tr th:only-of-type {\n",
              "        vertical-align: middle;\n",
              "    }\n",
              "\n",
              "    .dataframe tbody tr th {\n",
              "        vertical-align: top;\n",
              "    }\n",
              "\n",
              "    .dataframe thead th {\n",
              "        text-align: right;\n",
              "    }\n",
              "</style>\n",
              "<table border=\"1\" class=\"dataframe\">\n",
              "  <thead>\n",
              "    <tr style=\"text-align: right;\">\n",
              "      <th></th>\n",
              "      <th>State</th>\n",
              "      <th>Region</th>\n",
              "      <th>Division</th>\n",
              "      <th>County</th>\n",
              "      <th>FIPS</th>\n",
              "      <th>GEOID</th>\n",
              "      <th>SMS Region</th>\n",
              "      <th>Year</th>\n",
              "      <th>Premature death</th>\n",
              "      <th>Poor or fair health</th>\n",
              "      <th>...</th>\n",
              "      <th>Drug poisoning deaths</th>\n",
              "      <th>Uninsured adults</th>\n",
              "      <th>Uninsured children</th>\n",
              "      <th>Health care costs</th>\n",
              "      <th>Could not see doctor due to cost</th>\n",
              "      <th>Other primary care providers</th>\n",
              "      <th>Median household income</th>\n",
              "      <th>Children eligible for free lunch</th>\n",
              "      <th>Homicide rate</th>\n",
              "      <th>Inadequate social support</th>\n",
              "    </tr>\n",
              "  </thead>\n",
              "  <tbody>\n",
              "    <tr>\n",
              "      <th>3312</th>\n",
              "      <td>NC</td>\n",
              "      <td>South</td>\n",
              "      <td>South Atlantic</td>\n",
              "      <td>Franklin County</td>\n",
              "      <td>37069</td>\n",
              "      <td>37069</td>\n",
              "      <td>Region 20</td>\n",
              "      <td>1/1/2015</td>\n",
              "      <td>7607.0</td>\n",
              "      <td>0.166</td>\n",
              "      <td>...</td>\n",
              "      <td>10.61</td>\n",
              "      <td>0.255</td>\n",
              "      <td>0.094</td>\n",
              "      <td>9284.0</td>\n",
              "      <td>0.241</td>\n",
              "      <td>19.0</td>\n",
              "      <td>39312</td>\n",
              "      <td>0.505</td>\n",
              "      <td>4.8</td>\n",
              "      <td>NaN</td>\n",
              "    </tr>\n",
              "    <tr>\n",
              "      <th>4997</th>\n",
              "      <td>TX</td>\n",
              "      <td>South</td>\n",
              "      <td>West South Central</td>\n",
              "      <td>Colorado County</td>\n",
              "      <td>48089</td>\n",
              "      <td>48089</td>\n",
              "      <td>Region 10</td>\n",
              "      <td>1/1/2014</td>\n",
              "      <td>7094.0</td>\n",
              "      <td>NaN</td>\n",
              "      <td>...</td>\n",
              "      <td>6.91</td>\n",
              "      <td>0.310</td>\n",
              "      <td>0.173</td>\n",
              "      <td>12092.0</td>\n",
              "      <td>0.194</td>\n",
              "      <td>24.0</td>\n",
              "      <td>40702</td>\n",
              "      <td>0.542</td>\n",
              "      <td>NaN</td>\n",
              "      <td>NaN</td>\n",
              "    </tr>\n",
              "    <tr>\n",
              "      <th>1567</th>\n",
              "      <td>IN</td>\n",
              "      <td>Midwest</td>\n",
              "      <td>East North Central</td>\n",
              "      <td>Bartholomew County</td>\n",
              "      <td>18005</td>\n",
              "      <td>18005</td>\n",
              "      <td>Region 30</td>\n",
              "      <td>1/1/2015</td>\n",
              "      <td>7412.0</td>\n",
              "      <td>0.148</td>\n",
              "      <td>...</td>\n",
              "      <td>14.17</td>\n",
              "      <td>0.194</td>\n",
              "      <td>0.083</td>\n",
              "      <td>9400.0</td>\n",
              "      <td>0.092</td>\n",
              "      <td>46.0</td>\n",
              "      <td>54341</td>\n",
              "      <td>0.341</td>\n",
              "      <td>2.0</td>\n",
              "      <td>NaN</td>\n",
              "    </tr>\n",
              "    <tr>\n",
              "      <th>3330</th>\n",
              "      <td>NC</td>\n",
              "      <td>South</td>\n",
              "      <td>South Atlantic</td>\n",
              "      <td>Haywood County</td>\n",
              "      <td>37087</td>\n",
              "      <td>37087</td>\n",
              "      <td>Region 20</td>\n",
              "      <td>1/1/2015</td>\n",
              "      <td>7698.0</td>\n",
              "      <td>0.180</td>\n",
              "      <td>...</td>\n",
              "      <td>18.01</td>\n",
              "      <td>0.227</td>\n",
              "      <td>0.070</td>\n",
              "      <td>8561.0</td>\n",
              "      <td>0.205</td>\n",
              "      <td>46.0</td>\n",
              "      <td>39320</td>\n",
              "      <td>0.454</td>\n",
              "      <td>3.1</td>\n",
              "      <td>NaN</td>\n",
              "    </tr>\n",
              "    <tr>\n",
              "      <th>295</th>\n",
              "      <td>AR</td>\n",
              "      <td>South</td>\n",
              "      <td>West South Central</td>\n",
              "      <td>Pope County</td>\n",
              "      <td>5115</td>\n",
              "      <td>5115</td>\n",
              "      <td>Region 11</td>\n",
              "      <td>1/1/2015</td>\n",
              "      <td>8177.0</td>\n",
              "      <td>0.182</td>\n",
              "      <td>...</td>\n",
              "      <td>9.60</td>\n",
              "      <td>0.265</td>\n",
              "      <td>0.065</td>\n",
              "      <td>9075.0</td>\n",
              "      <td>0.168</td>\n",
              "      <td>37.0</td>\n",
              "      <td>39704</td>\n",
              "      <td>0.468</td>\n",
              "      <td>3.1</td>\n",
              "      <td>NaN</td>\n",
              "    </tr>\n",
              "  </tbody>\n",
              "</table>\n",
              "<p>5 rows × 64 columns</p>\n",
              "</div>\n",
              "    <div class=\"colab-df-buttons\">\n",
              "\n",
              "  <div class=\"colab-df-container\">\n",
              "    <button class=\"colab-df-convert\" onclick=\"convertToInteractive('df-086e1e8c-de47-4e0c-a0c7-6cae632a8262')\"\n",
              "            title=\"Convert this dataframe to an interactive table.\"\n",
              "            style=\"display:none;\">\n",
              "\n",
              "  <svg xmlns=\"http://www.w3.org/2000/svg\" height=\"24px\" viewBox=\"0 -960 960 960\">\n",
              "    <path d=\"M120-120v-720h720v720H120Zm60-500h600v-160H180v160Zm220 220h160v-160H400v160Zm0 220h160v-160H400v160ZM180-400h160v-160H180v160Zm440 0h160v-160H620v160ZM180-180h160v-160H180v160Zm440 0h160v-160H620v160Z\"/>\n",
              "  </svg>\n",
              "    </button>\n",
              "\n",
              "  <style>\n",
              "    .colab-df-container {\n",
              "      display:flex;\n",
              "      gap: 12px;\n",
              "    }\n",
              "\n",
              "    .colab-df-convert {\n",
              "      background-color: #E8F0FE;\n",
              "      border: none;\n",
              "      border-radius: 50%;\n",
              "      cursor: pointer;\n",
              "      display: none;\n",
              "      fill: #1967D2;\n",
              "      height: 32px;\n",
              "      padding: 0 0 0 0;\n",
              "      width: 32px;\n",
              "    }\n",
              "\n",
              "    .colab-df-convert:hover {\n",
              "      background-color: #E2EBFA;\n",
              "      box-shadow: 0px 1px 2px rgba(60, 64, 67, 0.3), 0px 1px 3px 1px rgba(60, 64, 67, 0.15);\n",
              "      fill: #174EA6;\n",
              "    }\n",
              "\n",
              "    .colab-df-buttons div {\n",
              "      margin-bottom: 4px;\n",
              "    }\n",
              "\n",
              "    [theme=dark] .colab-df-convert {\n",
              "      background-color: #3B4455;\n",
              "      fill: #D2E3FC;\n",
              "    }\n",
              "\n",
              "    [theme=dark] .colab-df-convert:hover {\n",
              "      background-color: #434B5C;\n",
              "      box-shadow: 0px 1px 3px 1px rgba(0, 0, 0, 0.15);\n",
              "      filter: drop-shadow(0px 1px 2px rgba(0, 0, 0, 0.3));\n",
              "      fill: #FFFFFF;\n",
              "    }\n",
              "  </style>\n",
              "\n",
              "    <script>\n",
              "      const buttonEl =\n",
              "        document.querySelector('#df-086e1e8c-de47-4e0c-a0c7-6cae632a8262 button.colab-df-convert');\n",
              "      buttonEl.style.display =\n",
              "        google.colab.kernel.accessAllowed ? 'block' : 'none';\n",
              "\n",
              "      async function convertToInteractive(key) {\n",
              "        const element = document.querySelector('#df-086e1e8c-de47-4e0c-a0c7-6cae632a8262');\n",
              "        const dataTable =\n",
              "          await google.colab.kernel.invokeFunction('convertToInteractive',\n",
              "                                                    [key], {});\n",
              "        if (!dataTable) return;\n",
              "\n",
              "        const docLinkHtml = 'Like what you see? Visit the ' +\n",
              "          '<a target=\"_blank\" href=https://colab.research.google.com/notebooks/data_table.ipynb>data table notebook</a>'\n",
              "          + ' to learn more about interactive tables.';\n",
              "        element.innerHTML = '';\n",
              "        dataTable['output_type'] = 'display_data';\n",
              "        await google.colab.output.renderOutput(dataTable, element);\n",
              "        const docLink = document.createElement('div');\n",
              "        docLink.innerHTML = docLinkHtml;\n",
              "        element.appendChild(docLink);\n",
              "      }\n",
              "    </script>\n",
              "  </div>\n",
              "\n",
              "\n",
              "<div id=\"df-4ed22103-f96e-4fa2-a78e-193b9b5d8c54\">\n",
              "  <button class=\"colab-df-quickchart\" onclick=\"quickchart('df-4ed22103-f96e-4fa2-a78e-193b9b5d8c54')\"\n",
              "            title=\"Suggest charts\"\n",
              "            style=\"display:none;\">\n",
              "\n",
              "<svg xmlns=\"http://www.w3.org/2000/svg\" height=\"24px\"viewBox=\"0 0 24 24\"\n",
              "     width=\"24px\">\n",
              "    <g>\n",
              "        <path d=\"M19 3H5c-1.1 0-2 .9-2 2v14c0 1.1.9 2 2 2h14c1.1 0 2-.9 2-2V5c0-1.1-.9-2-2-2zM9 17H7v-7h2v7zm4 0h-2V7h2v10zm4 0h-2v-4h2v4z\"/>\n",
              "    </g>\n",
              "</svg>\n",
              "  </button>\n",
              "\n",
              "<style>\n",
              "  .colab-df-quickchart {\n",
              "      --bg-color: #E8F0FE;\n",
              "      --fill-color: #1967D2;\n",
              "      --hover-bg-color: #E2EBFA;\n",
              "      --hover-fill-color: #174EA6;\n",
              "      --disabled-fill-color: #AAA;\n",
              "      --disabled-bg-color: #DDD;\n",
              "  }\n",
              "\n",
              "  [theme=dark] .colab-df-quickchart {\n",
              "      --bg-color: #3B4455;\n",
              "      --fill-color: #D2E3FC;\n",
              "      --hover-bg-color: #434B5C;\n",
              "      --hover-fill-color: #FFFFFF;\n",
              "      --disabled-bg-color: #3B4455;\n",
              "      --disabled-fill-color: #666;\n",
              "  }\n",
              "\n",
              "  .colab-df-quickchart {\n",
              "    background-color: var(--bg-color);\n",
              "    border: none;\n",
              "    border-radius: 50%;\n",
              "    cursor: pointer;\n",
              "    display: none;\n",
              "    fill: var(--fill-color);\n",
              "    height: 32px;\n",
              "    padding: 0;\n",
              "    width: 32px;\n",
              "  }\n",
              "\n",
              "  .colab-df-quickchart:hover {\n",
              "    background-color: var(--hover-bg-color);\n",
              "    box-shadow: 0 1px 2px rgba(60, 64, 67, 0.3), 0 1px 3px 1px rgba(60, 64, 67, 0.15);\n",
              "    fill: var(--button-hover-fill-color);\n",
              "  }\n",
              "\n",
              "  .colab-df-quickchart-complete:disabled,\n",
              "  .colab-df-quickchart-complete:disabled:hover {\n",
              "    background-color: var(--disabled-bg-color);\n",
              "    fill: var(--disabled-fill-color);\n",
              "    box-shadow: none;\n",
              "  }\n",
              "\n",
              "  .colab-df-spinner {\n",
              "    border: 2px solid var(--fill-color);\n",
              "    border-color: transparent;\n",
              "    border-bottom-color: var(--fill-color);\n",
              "    animation:\n",
              "      spin 1s steps(1) infinite;\n",
              "  }\n",
              "\n",
              "  @keyframes spin {\n",
              "    0% {\n",
              "      border-color: transparent;\n",
              "      border-bottom-color: var(--fill-color);\n",
              "      border-left-color: var(--fill-color);\n",
              "    }\n",
              "    20% {\n",
              "      border-color: transparent;\n",
              "      border-left-color: var(--fill-color);\n",
              "      border-top-color: var(--fill-color);\n",
              "    }\n",
              "    30% {\n",
              "      border-color: transparent;\n",
              "      border-left-color: var(--fill-color);\n",
              "      border-top-color: var(--fill-color);\n",
              "      border-right-color: var(--fill-color);\n",
              "    }\n",
              "    40% {\n",
              "      border-color: transparent;\n",
              "      border-right-color: var(--fill-color);\n",
              "      border-top-color: var(--fill-color);\n",
              "    }\n",
              "    60% {\n",
              "      border-color: transparent;\n",
              "      border-right-color: var(--fill-color);\n",
              "    }\n",
              "    80% {\n",
              "      border-color: transparent;\n",
              "      border-right-color: var(--fill-color);\n",
              "      border-bottom-color: var(--fill-color);\n",
              "    }\n",
              "    90% {\n",
              "      border-color: transparent;\n",
              "      border-bottom-color: var(--fill-color);\n",
              "    }\n",
              "  }\n",
              "</style>\n",
              "\n",
              "  <script>\n",
              "    async function quickchart(key) {\n",
              "      const quickchartButtonEl =\n",
              "        document.querySelector('#' + key + ' button');\n",
              "      quickchartButtonEl.disabled = true;  // To prevent multiple clicks.\n",
              "      quickchartButtonEl.classList.add('colab-df-spinner');\n",
              "      try {\n",
              "        const charts = await google.colab.kernel.invokeFunction(\n",
              "            'suggestCharts', [key], {});\n",
              "      } catch (error) {\n",
              "        console.error('Error during call to suggestCharts:', error);\n",
              "      }\n",
              "      quickchartButtonEl.classList.remove('colab-df-spinner');\n",
              "      quickchartButtonEl.classList.add('colab-df-quickchart-complete');\n",
              "    }\n",
              "    (() => {\n",
              "      let quickchartButtonEl =\n",
              "        document.querySelector('#df-4ed22103-f96e-4fa2-a78e-193b9b5d8c54 button');\n",
              "      quickchartButtonEl.style.display =\n",
              "        google.colab.kernel.accessAllowed ? 'block' : 'none';\n",
              "    })();\n",
              "  </script>\n",
              "</div>\n",
              "    </div>\n",
              "  </div>\n"
            ]
          },
          "metadata": {},
          "execution_count": 9
        }
      ]
    },
    {
      "cell_type": "markdown",
      "source": [
        "# **Indexing Data**\n",
        "\n",
        "When analyzing data, you often only want certain rows or columns. This can be accomplished through indexing.\n",
        "\n",
        "In this dataframe we are focusing on Poor Mental Health Days. In order to extract the specific column type df.[\"attribute name\"]\n"
      ],
      "metadata": {
        "id": "A5FW4-50297Z"
      }
    },
    {
      "cell_type": "code",
      "source": [
        "df[\"Poor mental health days\"]"
      ],
      "metadata": {
        "colab": {
          "base_uri": "https://localhost:8080/"
        },
        "id": "NNB4ulpd5oTm",
        "outputId": "a49b4fad-3efc-4d31-89e6-1478cdb6bae8"
      },
      "execution_count": 10,
      "outputs": [
        {
          "output_type": "execute_result",
          "data": {
            "text/plain": [
              "0       2.1\n",
              "1       2.1\n",
              "2       3.0\n",
              "3       3.0\n",
              "4       2.6\n",
              "       ... \n",
              "6104    3.5\n",
              "6105    2.3\n",
              "6106    2.3\n",
              "6107    3.0\n",
              "6108    3.0\n",
              "Name: Poor mental health days, Length: 6109, dtype: float64"
            ]
          },
          "metadata": {},
          "execution_count": 10
        }
      ]
    },
    {
      "cell_type": "markdown",
      "source": [
        " If you want to select multiple columns, you must list them in their own set of square brackets. As seen below."
      ],
      "metadata": {
        "id": "jpJK8yZp51ST"
      }
    },
    {
      "cell_type": "code",
      "source": [
        "df[[\"Region\", \"State\", \"Poor mental health days\"]]"
      ],
      "metadata": {
        "colab": {
          "base_uri": "https://localhost:8080/",
          "height": 424
        },
        "id": "F8UJf8P0GPVl",
        "outputId": "a99281a2-867e-43d5-faa8-1389afadfeb3"
      },
      "execution_count": 11,
      "outputs": [
        {
          "output_type": "execute_result",
          "data": {
            "text/plain": [
              "     Region State  Poor mental health days\n",
              "0      West    AK                      2.1\n",
              "1      West    AK                      2.1\n",
              "2      West    AK                      3.0\n",
              "3      West    AK                      3.0\n",
              "4      West    AK                      2.6\n",
              "...     ...   ...                      ...\n",
              "6104   West    WY                      3.5\n",
              "6105   West    WY                      2.3\n",
              "6106   West    WY                      2.3\n",
              "6107   West    WY                      3.0\n",
              "6108   West    WY                      3.0\n",
              "\n",
              "[6109 rows x 3 columns]"
            ],
            "text/html": [
              "\n",
              "  <div id=\"df-7ddbb7ba-c305-4f93-a3af-f027ffc08286\" class=\"colab-df-container\">\n",
              "    <div>\n",
              "<style scoped>\n",
              "    .dataframe tbody tr th:only-of-type {\n",
              "        vertical-align: middle;\n",
              "    }\n",
              "\n",
              "    .dataframe tbody tr th {\n",
              "        vertical-align: top;\n",
              "    }\n",
              "\n",
              "    .dataframe thead th {\n",
              "        text-align: right;\n",
              "    }\n",
              "</style>\n",
              "<table border=\"1\" class=\"dataframe\">\n",
              "  <thead>\n",
              "    <tr style=\"text-align: right;\">\n",
              "      <th></th>\n",
              "      <th>Region</th>\n",
              "      <th>State</th>\n",
              "      <th>Poor mental health days</th>\n",
              "    </tr>\n",
              "  </thead>\n",
              "  <tbody>\n",
              "    <tr>\n",
              "      <th>0</th>\n",
              "      <td>West</td>\n",
              "      <td>AK</td>\n",
              "      <td>2.1</td>\n",
              "    </tr>\n",
              "    <tr>\n",
              "      <th>1</th>\n",
              "      <td>West</td>\n",
              "      <td>AK</td>\n",
              "      <td>2.1</td>\n",
              "    </tr>\n",
              "    <tr>\n",
              "      <th>2</th>\n",
              "      <td>West</td>\n",
              "      <td>AK</td>\n",
              "      <td>3.0</td>\n",
              "    </tr>\n",
              "    <tr>\n",
              "      <th>3</th>\n",
              "      <td>West</td>\n",
              "      <td>AK</td>\n",
              "      <td>3.0</td>\n",
              "    </tr>\n",
              "    <tr>\n",
              "      <th>4</th>\n",
              "      <td>West</td>\n",
              "      <td>AK</td>\n",
              "      <td>2.6</td>\n",
              "    </tr>\n",
              "    <tr>\n",
              "      <th>...</th>\n",
              "      <td>...</td>\n",
              "      <td>...</td>\n",
              "      <td>...</td>\n",
              "    </tr>\n",
              "    <tr>\n",
              "      <th>6104</th>\n",
              "      <td>West</td>\n",
              "      <td>WY</td>\n",
              "      <td>3.5</td>\n",
              "    </tr>\n",
              "    <tr>\n",
              "      <th>6105</th>\n",
              "      <td>West</td>\n",
              "      <td>WY</td>\n",
              "      <td>2.3</td>\n",
              "    </tr>\n",
              "    <tr>\n",
              "      <th>6106</th>\n",
              "      <td>West</td>\n",
              "      <td>WY</td>\n",
              "      <td>2.3</td>\n",
              "    </tr>\n",
              "    <tr>\n",
              "      <th>6107</th>\n",
              "      <td>West</td>\n",
              "      <td>WY</td>\n",
              "      <td>3.0</td>\n",
              "    </tr>\n",
              "    <tr>\n",
              "      <th>6108</th>\n",
              "      <td>West</td>\n",
              "      <td>WY</td>\n",
              "      <td>3.0</td>\n",
              "    </tr>\n",
              "  </tbody>\n",
              "</table>\n",
              "<p>6109 rows × 3 columns</p>\n",
              "</div>\n",
              "    <div class=\"colab-df-buttons\">\n",
              "\n",
              "  <div class=\"colab-df-container\">\n",
              "    <button class=\"colab-df-convert\" onclick=\"convertToInteractive('df-7ddbb7ba-c305-4f93-a3af-f027ffc08286')\"\n",
              "            title=\"Convert this dataframe to an interactive table.\"\n",
              "            style=\"display:none;\">\n",
              "\n",
              "  <svg xmlns=\"http://www.w3.org/2000/svg\" height=\"24px\" viewBox=\"0 -960 960 960\">\n",
              "    <path d=\"M120-120v-720h720v720H120Zm60-500h600v-160H180v160Zm220 220h160v-160H400v160Zm0 220h160v-160H400v160ZM180-400h160v-160H180v160Zm440 0h160v-160H620v160ZM180-180h160v-160H180v160Zm440 0h160v-160H620v160Z\"/>\n",
              "  </svg>\n",
              "    </button>\n",
              "\n",
              "  <style>\n",
              "    .colab-df-container {\n",
              "      display:flex;\n",
              "      gap: 12px;\n",
              "    }\n",
              "\n",
              "    .colab-df-convert {\n",
              "      background-color: #E8F0FE;\n",
              "      border: none;\n",
              "      border-radius: 50%;\n",
              "      cursor: pointer;\n",
              "      display: none;\n",
              "      fill: #1967D2;\n",
              "      height: 32px;\n",
              "      padding: 0 0 0 0;\n",
              "      width: 32px;\n",
              "    }\n",
              "\n",
              "    .colab-df-convert:hover {\n",
              "      background-color: #E2EBFA;\n",
              "      box-shadow: 0px 1px 2px rgba(60, 64, 67, 0.3), 0px 1px 3px 1px rgba(60, 64, 67, 0.15);\n",
              "      fill: #174EA6;\n",
              "    }\n",
              "\n",
              "    .colab-df-buttons div {\n",
              "      margin-bottom: 4px;\n",
              "    }\n",
              "\n",
              "    [theme=dark] .colab-df-convert {\n",
              "      background-color: #3B4455;\n",
              "      fill: #D2E3FC;\n",
              "    }\n",
              "\n",
              "    [theme=dark] .colab-df-convert:hover {\n",
              "      background-color: #434B5C;\n",
              "      box-shadow: 0px 1px 3px 1px rgba(0, 0, 0, 0.15);\n",
              "      filter: drop-shadow(0px 1px 2px rgba(0, 0, 0, 0.3));\n",
              "      fill: #FFFFFF;\n",
              "    }\n",
              "  </style>\n",
              "\n",
              "    <script>\n",
              "      const buttonEl =\n",
              "        document.querySelector('#df-7ddbb7ba-c305-4f93-a3af-f027ffc08286 button.colab-df-convert');\n",
              "      buttonEl.style.display =\n",
              "        google.colab.kernel.accessAllowed ? 'block' : 'none';\n",
              "\n",
              "      async function convertToInteractive(key) {\n",
              "        const element = document.querySelector('#df-7ddbb7ba-c305-4f93-a3af-f027ffc08286');\n",
              "        const dataTable =\n",
              "          await google.colab.kernel.invokeFunction('convertToInteractive',\n",
              "                                                    [key], {});\n",
              "        if (!dataTable) return;\n",
              "\n",
              "        const docLinkHtml = 'Like what you see? Visit the ' +\n",
              "          '<a target=\"_blank\" href=https://colab.research.google.com/notebooks/data_table.ipynb>data table notebook</a>'\n",
              "          + ' to learn more about interactive tables.';\n",
              "        element.innerHTML = '';\n",
              "        dataTable['output_type'] = 'display_data';\n",
              "        await google.colab.output.renderOutput(dataTable, element);\n",
              "        const docLink = document.createElement('div');\n",
              "        docLink.innerHTML = docLinkHtml;\n",
              "        element.appendChild(docLink);\n",
              "      }\n",
              "    </script>\n",
              "  </div>\n",
              "\n",
              "\n",
              "<div id=\"df-978a81ee-5491-4e49-9e7a-5f48076c4b9e\">\n",
              "  <button class=\"colab-df-quickchart\" onclick=\"quickchart('df-978a81ee-5491-4e49-9e7a-5f48076c4b9e')\"\n",
              "            title=\"Suggest charts\"\n",
              "            style=\"display:none;\">\n",
              "\n",
              "<svg xmlns=\"http://www.w3.org/2000/svg\" height=\"24px\"viewBox=\"0 0 24 24\"\n",
              "     width=\"24px\">\n",
              "    <g>\n",
              "        <path d=\"M19 3H5c-1.1 0-2 .9-2 2v14c0 1.1.9 2 2 2h14c1.1 0 2-.9 2-2V5c0-1.1-.9-2-2-2zM9 17H7v-7h2v7zm4 0h-2V7h2v10zm4 0h-2v-4h2v4z\"/>\n",
              "    </g>\n",
              "</svg>\n",
              "  </button>\n",
              "\n",
              "<style>\n",
              "  .colab-df-quickchart {\n",
              "      --bg-color: #E8F0FE;\n",
              "      --fill-color: #1967D2;\n",
              "      --hover-bg-color: #E2EBFA;\n",
              "      --hover-fill-color: #174EA6;\n",
              "      --disabled-fill-color: #AAA;\n",
              "      --disabled-bg-color: #DDD;\n",
              "  }\n",
              "\n",
              "  [theme=dark] .colab-df-quickchart {\n",
              "      --bg-color: #3B4455;\n",
              "      --fill-color: #D2E3FC;\n",
              "      --hover-bg-color: #434B5C;\n",
              "      --hover-fill-color: #FFFFFF;\n",
              "      --disabled-bg-color: #3B4455;\n",
              "      --disabled-fill-color: #666;\n",
              "  }\n",
              "\n",
              "  .colab-df-quickchart {\n",
              "    background-color: var(--bg-color);\n",
              "    border: none;\n",
              "    border-radius: 50%;\n",
              "    cursor: pointer;\n",
              "    display: none;\n",
              "    fill: var(--fill-color);\n",
              "    height: 32px;\n",
              "    padding: 0;\n",
              "    width: 32px;\n",
              "  }\n",
              "\n",
              "  .colab-df-quickchart:hover {\n",
              "    background-color: var(--hover-bg-color);\n",
              "    box-shadow: 0 1px 2px rgba(60, 64, 67, 0.3), 0 1px 3px 1px rgba(60, 64, 67, 0.15);\n",
              "    fill: var(--button-hover-fill-color);\n",
              "  }\n",
              "\n",
              "  .colab-df-quickchart-complete:disabled,\n",
              "  .colab-df-quickchart-complete:disabled:hover {\n",
              "    background-color: var(--disabled-bg-color);\n",
              "    fill: var(--disabled-fill-color);\n",
              "    box-shadow: none;\n",
              "  }\n",
              "\n",
              "  .colab-df-spinner {\n",
              "    border: 2px solid var(--fill-color);\n",
              "    border-color: transparent;\n",
              "    border-bottom-color: var(--fill-color);\n",
              "    animation:\n",
              "      spin 1s steps(1) infinite;\n",
              "  }\n",
              "\n",
              "  @keyframes spin {\n",
              "    0% {\n",
              "      border-color: transparent;\n",
              "      border-bottom-color: var(--fill-color);\n",
              "      border-left-color: var(--fill-color);\n",
              "    }\n",
              "    20% {\n",
              "      border-color: transparent;\n",
              "      border-left-color: var(--fill-color);\n",
              "      border-top-color: var(--fill-color);\n",
              "    }\n",
              "    30% {\n",
              "      border-color: transparent;\n",
              "      border-left-color: var(--fill-color);\n",
              "      border-top-color: var(--fill-color);\n",
              "      border-right-color: var(--fill-color);\n",
              "    }\n",
              "    40% {\n",
              "      border-color: transparent;\n",
              "      border-right-color: var(--fill-color);\n",
              "      border-top-color: var(--fill-color);\n",
              "    }\n",
              "    60% {\n",
              "      border-color: transparent;\n",
              "      border-right-color: var(--fill-color);\n",
              "    }\n",
              "    80% {\n",
              "      border-color: transparent;\n",
              "      border-right-color: var(--fill-color);\n",
              "      border-bottom-color: var(--fill-color);\n",
              "    }\n",
              "    90% {\n",
              "      border-color: transparent;\n",
              "      border-bottom-color: var(--fill-color);\n",
              "    }\n",
              "  }\n",
              "</style>\n",
              "\n",
              "  <script>\n",
              "    async function quickchart(key) {\n",
              "      const quickchartButtonEl =\n",
              "        document.querySelector('#' + key + ' button');\n",
              "      quickchartButtonEl.disabled = true;  // To prevent multiple clicks.\n",
              "      quickchartButtonEl.classList.add('colab-df-spinner');\n",
              "      try {\n",
              "        const charts = await google.colab.kernel.invokeFunction(\n",
              "            'suggestCharts', [key], {});\n",
              "      } catch (error) {\n",
              "        console.error('Error during call to suggestCharts:', error);\n",
              "      }\n",
              "      quickchartButtonEl.classList.remove('colab-df-spinner');\n",
              "      quickchartButtonEl.classList.add('colab-df-quickchart-complete');\n",
              "    }\n",
              "    (() => {\n",
              "      let quickchartButtonEl =\n",
              "        document.querySelector('#df-978a81ee-5491-4e49-9e7a-5f48076c4b9e button');\n",
              "      quickchartButtonEl.style.display =\n",
              "        google.colab.kernel.accessAllowed ? 'block' : 'none';\n",
              "    })();\n",
              "  </script>\n",
              "</div>\n",
              "    </div>\n",
              "  </div>\n"
            ]
          },
          "metadata": {},
          "execution_count": 11
        }
      ]
    },
    {
      "cell_type": "markdown",
      "source": [
        "**Average**\n",
        "\n",
        "In order to find the average of an attribute you can type:\n",
        "\n",
        "dataframe name[\"attribute\"].mean()\n",
        "\n",
        "In the example below, the average number of poor mental health days is found."
      ],
      "metadata": {
        "id": "xlIe8HyI-SEe"
      }
    },
    {
      "cell_type": "code",
      "source": [
        "df['Poor mental health days'].mean()"
      ],
      "metadata": {
        "colab": {
          "base_uri": "https://localhost:8080/"
        },
        "id": "vFmnASkI-GFw",
        "outputId": "5e677e86-53af-410a-c829-dc6b632fa2b4"
      },
      "execution_count": 12,
      "outputs": [
        {
          "output_type": "execute_result",
          "data": {
            "text/plain": [
              "3.5744742990654204"
            ]
          },
          "metadata": {},
          "execution_count": 12
        }
      ]
    },
    {
      "cell_type": "code",
      "source": [
        "df[\"Poor mental health days\"].median()"
      ],
      "metadata": {
        "colab": {
          "base_uri": "https://localhost:8080/"
        },
        "id": "oenqUB42v68M",
        "outputId": "45e50666-6f58-41d9-9c82-66297ed2ae09"
      },
      "execution_count": 12,
      "outputs": [
        {
          "output_type": "execute_result",
          "data": {
            "text/plain": [
              "3.5"
            ]
          },
          "metadata": {},
          "execution_count": 12
        }
      ]
    },
    {
      "cell_type": "markdown",
      "source": [
        "# **Defining New Dataframe**\n",
        "\n",
        "In order to create a subset of your dataframe, you must first define a new dataframe. This can be done using the following code:\n",
        "\n",
        "\n",
        "Dataframe Subset Name= Dataframe Name[dataframe name[\"attribute\"]]\n",
        "\n",
        "Greater_MHD focuses on the rows of the orginal dataframe, df, that are greater than 3, defined by:"
      ],
      "metadata": {
        "id": "8iB8UbAJ7n_d"
      }
    },
    {
      "cell_type": "code",
      "source": [
        "Greater_MHD =df[df[\"Poor mental health days\"]<3.5745]"
      ],
      "metadata": {
        "id": "mUAPvZ_46zCy"
      },
      "execution_count": 10,
      "outputs": []
    },
    {
      "cell_type": "markdown",
      "source": [
        "Using data framing techniques we learned earlier, you can find the number of data points in the new dataframe subset, as seen below."
      ],
      "metadata": {
        "id": "r5ij9lT-BDDI"
      }
    },
    {
      "cell_type": "code",
      "source": [
        "Greater_MHD.size"
      ],
      "metadata": {
        "colab": {
          "base_uri": "https://localhost:8080/"
        },
        "id": "J0CAEXrA8ZLq",
        "outputId": "ba7affa3-f661-46d3-9a36-fc5d58a96d41"
      },
      "execution_count": 11,
      "outputs": [
        {
          "output_type": "execute_result",
          "data": {
            "text/plain": [
              "172544"
            ]
          },
          "metadata": {},
          "execution_count": 11
        }
      ]
    },
    {
      "cell_type": "markdown",
      "source": [
        "This code tells you that there are 172,544 data points where the number of poor mental health days is above the average."
      ],
      "metadata": {
        "id": "QcXIn93DC71S"
      }
    },
    {
      "cell_type": "markdown",
      "source": [
        "# Filtering with .loc"
      ],
      "metadata": {
        "id": "3acArsgoFeOn"
      }
    },
    {
      "cell_type": "markdown",
      "source": [
        "The next step is to create a final, PMHD_subset, dataframe by filtering Greater_MHD with a function called .loc that filters using the names of columns.\n",
        "\n",
        "First, we identify the dataframe we just made, Greater_MHD, and insert our function. In brackets, we indicate what rows to run by putting a :. After a comma, internal brackets contain a list identifying each of the aforementioned variables of interest in quotes.\n",
        "\n",
        "The command should look similar to the code below:"
      ],
      "metadata": {
        "id": "lOBV3uU5F86r"
      }
    },
    {
      "cell_type": "code",
      "source": [
        "PMHD_subset = Greater_MHD.loc[:,[\"State\",\"Region\",\"Poor mental health days\"]]"
      ],
      "metadata": {
        "id": "pi40ixs8Fd0R"
      },
      "execution_count": 14,
      "outputs": []
    },
    {
      "cell_type": "markdown",
      "source": [
        "Typing the new name of your subset, PMHD_Subset, should display your fully filtered data"
      ],
      "metadata": {
        "id": "nYm6A-DsH7mI"
      }
    },
    {
      "cell_type": "code",
      "source": [
        "PMHD_subset"
      ],
      "metadata": {
        "colab": {
          "base_uri": "https://localhost:8080/",
          "height": 424
        },
        "id": "P7bCBBB6GcAp",
        "outputId": "81f78432-e7b0-4a9d-c052-25525e257f6d"
      },
      "execution_count": 15,
      "outputs": [
        {
          "output_type": "execute_result",
          "data": {
            "text/plain": [
              "     State Region  Poor mental health days\n",
              "0       AK   West                      2.1\n",
              "1       AK   West                      2.1\n",
              "2       AK   West                      3.0\n",
              "3       AK   West                      3.0\n",
              "4       AK   West                      2.6\n",
              "...    ...    ...                      ...\n",
              "6104    WY   West                      3.5\n",
              "6105    WY   West                      2.3\n",
              "6106    WY   West                      2.3\n",
              "6107    WY   West                      3.0\n",
              "6108    WY   West                      3.0\n",
              "\n",
              "[2696 rows x 3 columns]"
            ],
            "text/html": [
              "\n",
              "  <div id=\"df-74fcdc31-7dce-4b4f-b91c-5f9e629716f0\" class=\"colab-df-container\">\n",
              "    <div>\n",
              "<style scoped>\n",
              "    .dataframe tbody tr th:only-of-type {\n",
              "        vertical-align: middle;\n",
              "    }\n",
              "\n",
              "    .dataframe tbody tr th {\n",
              "        vertical-align: top;\n",
              "    }\n",
              "\n",
              "    .dataframe thead th {\n",
              "        text-align: right;\n",
              "    }\n",
              "</style>\n",
              "<table border=\"1\" class=\"dataframe\">\n",
              "  <thead>\n",
              "    <tr style=\"text-align: right;\">\n",
              "      <th></th>\n",
              "      <th>State</th>\n",
              "      <th>Region</th>\n",
              "      <th>Poor mental health days</th>\n",
              "    </tr>\n",
              "  </thead>\n",
              "  <tbody>\n",
              "    <tr>\n",
              "      <th>0</th>\n",
              "      <td>AK</td>\n",
              "      <td>West</td>\n",
              "      <td>2.1</td>\n",
              "    </tr>\n",
              "    <tr>\n",
              "      <th>1</th>\n",
              "      <td>AK</td>\n",
              "      <td>West</td>\n",
              "      <td>2.1</td>\n",
              "    </tr>\n",
              "    <tr>\n",
              "      <th>2</th>\n",
              "      <td>AK</td>\n",
              "      <td>West</td>\n",
              "      <td>3.0</td>\n",
              "    </tr>\n",
              "    <tr>\n",
              "      <th>3</th>\n",
              "      <td>AK</td>\n",
              "      <td>West</td>\n",
              "      <td>3.0</td>\n",
              "    </tr>\n",
              "    <tr>\n",
              "      <th>4</th>\n",
              "      <td>AK</td>\n",
              "      <td>West</td>\n",
              "      <td>2.6</td>\n",
              "    </tr>\n",
              "    <tr>\n",
              "      <th>...</th>\n",
              "      <td>...</td>\n",
              "      <td>...</td>\n",
              "      <td>...</td>\n",
              "    </tr>\n",
              "    <tr>\n",
              "      <th>6104</th>\n",
              "      <td>WY</td>\n",
              "      <td>West</td>\n",
              "      <td>3.5</td>\n",
              "    </tr>\n",
              "    <tr>\n",
              "      <th>6105</th>\n",
              "      <td>WY</td>\n",
              "      <td>West</td>\n",
              "      <td>2.3</td>\n",
              "    </tr>\n",
              "    <tr>\n",
              "      <th>6106</th>\n",
              "      <td>WY</td>\n",
              "      <td>West</td>\n",
              "      <td>2.3</td>\n",
              "    </tr>\n",
              "    <tr>\n",
              "      <th>6107</th>\n",
              "      <td>WY</td>\n",
              "      <td>West</td>\n",
              "      <td>3.0</td>\n",
              "    </tr>\n",
              "    <tr>\n",
              "      <th>6108</th>\n",
              "      <td>WY</td>\n",
              "      <td>West</td>\n",
              "      <td>3.0</td>\n",
              "    </tr>\n",
              "  </tbody>\n",
              "</table>\n",
              "<p>2696 rows × 3 columns</p>\n",
              "</div>\n",
              "    <div class=\"colab-df-buttons\">\n",
              "\n",
              "  <div class=\"colab-df-container\">\n",
              "    <button class=\"colab-df-convert\" onclick=\"convertToInteractive('df-74fcdc31-7dce-4b4f-b91c-5f9e629716f0')\"\n",
              "            title=\"Convert this dataframe to an interactive table.\"\n",
              "            style=\"display:none;\">\n",
              "\n",
              "  <svg xmlns=\"http://www.w3.org/2000/svg\" height=\"24px\" viewBox=\"0 -960 960 960\">\n",
              "    <path d=\"M120-120v-720h720v720H120Zm60-500h600v-160H180v160Zm220 220h160v-160H400v160Zm0 220h160v-160H400v160ZM180-400h160v-160H180v160Zm440 0h160v-160H620v160ZM180-180h160v-160H180v160Zm440 0h160v-160H620v160Z\"/>\n",
              "  </svg>\n",
              "    </button>\n",
              "\n",
              "  <style>\n",
              "    .colab-df-container {\n",
              "      display:flex;\n",
              "      gap: 12px;\n",
              "    }\n",
              "\n",
              "    .colab-df-convert {\n",
              "      background-color: #E8F0FE;\n",
              "      border: none;\n",
              "      border-radius: 50%;\n",
              "      cursor: pointer;\n",
              "      display: none;\n",
              "      fill: #1967D2;\n",
              "      height: 32px;\n",
              "      padding: 0 0 0 0;\n",
              "      width: 32px;\n",
              "    }\n",
              "\n",
              "    .colab-df-convert:hover {\n",
              "      background-color: #E2EBFA;\n",
              "      box-shadow: 0px 1px 2px rgba(60, 64, 67, 0.3), 0px 1px 3px 1px rgba(60, 64, 67, 0.15);\n",
              "      fill: #174EA6;\n",
              "    }\n",
              "\n",
              "    .colab-df-buttons div {\n",
              "      margin-bottom: 4px;\n",
              "    }\n",
              "\n",
              "    [theme=dark] .colab-df-convert {\n",
              "      background-color: #3B4455;\n",
              "      fill: #D2E3FC;\n",
              "    }\n",
              "\n",
              "    [theme=dark] .colab-df-convert:hover {\n",
              "      background-color: #434B5C;\n",
              "      box-shadow: 0px 1px 3px 1px rgba(0, 0, 0, 0.15);\n",
              "      filter: drop-shadow(0px 1px 2px rgba(0, 0, 0, 0.3));\n",
              "      fill: #FFFFFF;\n",
              "    }\n",
              "  </style>\n",
              "\n",
              "    <script>\n",
              "      const buttonEl =\n",
              "        document.querySelector('#df-74fcdc31-7dce-4b4f-b91c-5f9e629716f0 button.colab-df-convert');\n",
              "      buttonEl.style.display =\n",
              "        google.colab.kernel.accessAllowed ? 'block' : 'none';\n",
              "\n",
              "      async function convertToInteractive(key) {\n",
              "        const element = document.querySelector('#df-74fcdc31-7dce-4b4f-b91c-5f9e629716f0');\n",
              "        const dataTable =\n",
              "          await google.colab.kernel.invokeFunction('convertToInteractive',\n",
              "                                                    [key], {});\n",
              "        if (!dataTable) return;\n",
              "\n",
              "        const docLinkHtml = 'Like what you see? Visit the ' +\n",
              "          '<a target=\"_blank\" href=https://colab.research.google.com/notebooks/data_table.ipynb>data table notebook</a>'\n",
              "          + ' to learn more about interactive tables.';\n",
              "        element.innerHTML = '';\n",
              "        dataTable['output_type'] = 'display_data';\n",
              "        await google.colab.output.renderOutput(dataTable, element);\n",
              "        const docLink = document.createElement('div');\n",
              "        docLink.innerHTML = docLinkHtml;\n",
              "        element.appendChild(docLink);\n",
              "      }\n",
              "    </script>\n",
              "  </div>\n",
              "\n",
              "\n",
              "<div id=\"df-2ca47bd8-00fb-4c5e-886e-64dbcbac378d\">\n",
              "  <button class=\"colab-df-quickchart\" onclick=\"quickchart('df-2ca47bd8-00fb-4c5e-886e-64dbcbac378d')\"\n",
              "            title=\"Suggest charts\"\n",
              "            style=\"display:none;\">\n",
              "\n",
              "<svg xmlns=\"http://www.w3.org/2000/svg\" height=\"24px\"viewBox=\"0 0 24 24\"\n",
              "     width=\"24px\">\n",
              "    <g>\n",
              "        <path d=\"M19 3H5c-1.1 0-2 .9-2 2v14c0 1.1.9 2 2 2h14c1.1 0 2-.9 2-2V5c0-1.1-.9-2-2-2zM9 17H7v-7h2v7zm4 0h-2V7h2v10zm4 0h-2v-4h2v4z\"/>\n",
              "    </g>\n",
              "</svg>\n",
              "  </button>\n",
              "\n",
              "<style>\n",
              "  .colab-df-quickchart {\n",
              "      --bg-color: #E8F0FE;\n",
              "      --fill-color: #1967D2;\n",
              "      --hover-bg-color: #E2EBFA;\n",
              "      --hover-fill-color: #174EA6;\n",
              "      --disabled-fill-color: #AAA;\n",
              "      --disabled-bg-color: #DDD;\n",
              "  }\n",
              "\n",
              "  [theme=dark] .colab-df-quickchart {\n",
              "      --bg-color: #3B4455;\n",
              "      --fill-color: #D2E3FC;\n",
              "      --hover-bg-color: #434B5C;\n",
              "      --hover-fill-color: #FFFFFF;\n",
              "      --disabled-bg-color: #3B4455;\n",
              "      --disabled-fill-color: #666;\n",
              "  }\n",
              "\n",
              "  .colab-df-quickchart {\n",
              "    background-color: var(--bg-color);\n",
              "    border: none;\n",
              "    border-radius: 50%;\n",
              "    cursor: pointer;\n",
              "    display: none;\n",
              "    fill: var(--fill-color);\n",
              "    height: 32px;\n",
              "    padding: 0;\n",
              "    width: 32px;\n",
              "  }\n",
              "\n",
              "  .colab-df-quickchart:hover {\n",
              "    background-color: var(--hover-bg-color);\n",
              "    box-shadow: 0 1px 2px rgba(60, 64, 67, 0.3), 0 1px 3px 1px rgba(60, 64, 67, 0.15);\n",
              "    fill: var(--button-hover-fill-color);\n",
              "  }\n",
              "\n",
              "  .colab-df-quickchart-complete:disabled,\n",
              "  .colab-df-quickchart-complete:disabled:hover {\n",
              "    background-color: var(--disabled-bg-color);\n",
              "    fill: var(--disabled-fill-color);\n",
              "    box-shadow: none;\n",
              "  }\n",
              "\n",
              "  .colab-df-spinner {\n",
              "    border: 2px solid var(--fill-color);\n",
              "    border-color: transparent;\n",
              "    border-bottom-color: var(--fill-color);\n",
              "    animation:\n",
              "      spin 1s steps(1) infinite;\n",
              "  }\n",
              "\n",
              "  @keyframes spin {\n",
              "    0% {\n",
              "      border-color: transparent;\n",
              "      border-bottom-color: var(--fill-color);\n",
              "      border-left-color: var(--fill-color);\n",
              "    }\n",
              "    20% {\n",
              "      border-color: transparent;\n",
              "      border-left-color: var(--fill-color);\n",
              "      border-top-color: var(--fill-color);\n",
              "    }\n",
              "    30% {\n",
              "      border-color: transparent;\n",
              "      border-left-color: var(--fill-color);\n",
              "      border-top-color: var(--fill-color);\n",
              "      border-right-color: var(--fill-color);\n",
              "    }\n",
              "    40% {\n",
              "      border-color: transparent;\n",
              "      border-right-color: var(--fill-color);\n",
              "      border-top-color: var(--fill-color);\n",
              "    }\n",
              "    60% {\n",
              "      border-color: transparent;\n",
              "      border-right-color: var(--fill-color);\n",
              "    }\n",
              "    80% {\n",
              "      border-color: transparent;\n",
              "      border-right-color: var(--fill-color);\n",
              "      border-bottom-color: var(--fill-color);\n",
              "    }\n",
              "    90% {\n",
              "      border-color: transparent;\n",
              "      border-bottom-color: var(--fill-color);\n",
              "    }\n",
              "  }\n",
              "</style>\n",
              "\n",
              "  <script>\n",
              "    async function quickchart(key) {\n",
              "      const quickchartButtonEl =\n",
              "        document.querySelector('#' + key + ' button');\n",
              "      quickchartButtonEl.disabled = true;  // To prevent multiple clicks.\n",
              "      quickchartButtonEl.classList.add('colab-df-spinner');\n",
              "      try {\n",
              "        const charts = await google.colab.kernel.invokeFunction(\n",
              "            'suggestCharts', [key], {});\n",
              "      } catch (error) {\n",
              "        console.error('Error during call to suggestCharts:', error);\n",
              "      }\n",
              "      quickchartButtonEl.classList.remove('colab-df-spinner');\n",
              "      quickchartButtonEl.classList.add('colab-df-quickchart-complete');\n",
              "    }\n",
              "    (() => {\n",
              "      let quickchartButtonEl =\n",
              "        document.querySelector('#df-2ca47bd8-00fb-4c5e-886e-64dbcbac378d button');\n",
              "      quickchartButtonEl.style.display =\n",
              "        google.colab.kernel.accessAllowed ? 'block' : 'none';\n",
              "    })();\n",
              "  </script>\n",
              "</div>\n",
              "    </div>\n",
              "  </div>\n"
            ]
          },
          "metadata": {},
          "execution_count": 15
        }
      ]
    },
    {
      "cell_type": "markdown",
      "source": [
        "In order to break down the new subset by region, you can click the graph symbol in the corner PMHD_subset and select the graph type that best supports your data. This will create a popout that creates and runs the new code for you, as displayed below."
      ],
      "metadata": {
        "id": "Bh2QY9uTIMjo"
      }
    },
    {
      "source": [
        "from matplotlib import pyplot as plt\n",
        "import seaborn as sns\n",
        "PMHD_subset.groupby('Region').size().plot(kind='barh', color=sns.palettes.mpl_palette('Dark2'))\n",
        "plt.gca().spines[['top', 'right',]].set_visible(False)"
      ],
      "cell_type": "code",
      "metadata": {
        "colab": {
          "base_uri": "https://localhost:8080/",
          "height": 430
        },
        "id": "XxXs1rSOHmzo",
        "outputId": "0672a203-5b53-4f55-cdf0-b4cc7f1337ea"
      },
      "execution_count": 17,
      "outputs": [
        {
          "output_type": "display_data",
          "data": {
            "text/plain": [
              "<Figure size 640x480 with 1 Axes>"
            ],
            "image/png": "[encoded data removed]"
          },
          "metadata": {}
        }
      ]
    },
    {
      "cell_type": "markdown",
      "source": [
        "# Exporting Your Data as a .csv\n",
        "\n",
        "Once you have successfully filtered your data you can export it as a .csv file. To do this use the function .to_csv()- adding the filename within the parentheses at the end.\n",
        "\n",
        "For our filtered subset we would run: PMHD_subset.to_csv(\"PMHD_subset.csv\") this will export a .csv file in our working directory.\n",
        "\n",
        "The .csv will automatically include the row of indices that were created when we read the original file into our notebook. We can add index=false to our statement, which elminates the index files."
      ],
      "metadata": {
        "id": "y82KCaO8Et4K"
      }
    },
    {
      "cell_type": "code",
      "source": [
        "PMHD_subset.to_csv(\"PMHD_subset\", index=False)"
      ],
      "metadata": {
        "id": "_yQ6E5RJJzER"
      },
      "execution_count": 19,
      "outputs": []
    },
    {
      "cell_type": "markdown",
      "source": [
        "**You're All Done**\n",
        "\n",
        "The new .csv file should be be shown in your directory under the the name you entered in the parentheses."
      ],
      "metadata": {
        "id": "_crfkNZ4J7wl"
      }
    }
  ]
}